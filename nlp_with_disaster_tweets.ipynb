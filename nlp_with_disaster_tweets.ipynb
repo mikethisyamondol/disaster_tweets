{
  "nbformat": 4,
  "nbformat_minor": 0,
  "metadata": {
    "colab": {
      "name": "nlp_with_disaster_tweets.ipynb",
      "provenance": [],
      "toc_visible": true,
      "mount_file_id": "1I-RI2t8D5tVj9nNUwQ2q_03-bo1e3o8p",
      "authorship_tag": "ABX9TyPcSUuQLh1APormlk6/g+17",
      "include_colab_link": true
    },
    "kernelspec": {
      "name": "python3",
      "display_name": "Python 3"
    },
    "language_info": {
      "name": "python"
    }
  },
  "cells": [
    {
      "cell_type": "markdown",
      "metadata": {
        "id": "view-in-github",
        "colab_type": "text"
      },
      "source": [
        "<a href=\"https://colab.research.google.com/github/mikethisyamondol/disaster_tweets/blob/main/nlp_with_disaster_tweets.ipynb\" target=\"_parent\"><img src=\"https://colab.research.google.com/assets/colab-badge.svg\" alt=\"Open In Colab\"/></a>"
      ]
    },
    {
      "cell_type": "markdown",
      "source": [
        "# Natural Language Processing with Disaster Tweets\n",
        "\n",
        "Mike Thisyamondol"
      ],
      "metadata": {
        "id": "TC22ti-7cpMj"
      }
    },
    {
      "cell_type": "markdown",
      "source": [
        "### Ingest"
      ],
      "metadata": {
        "id": "YYTQ1eDTib8x"
      }
    },
    {
      "cell_type": "code",
      "source": [
        "from IPython.display import clear_output\n",
        "!pip install tokenizers\n",
        "!pip install transformers\n",
        "!pip install tensorflow_hub\n",
        "!pip install tensorflow_text\n",
        "clear_output()"
      ],
      "metadata": {
        "id": "Rc2wz5gKNxmb"
      },
      "execution_count": 2,
      "outputs": []
    },
    {
      "cell_type": "code",
      "execution_count": 59,
      "metadata": {
        "id": "Z-Wkduntcg0r"
      },
      "outputs": [],
      "source": [
        "import pandas as pd\n",
        "import numpy as np\n",
        "import matplotlib.pyplot as plt\n",
        "from matplotlib.image import imread\n",
        "import zipfile\n",
        "import seaborn as sns\n",
        "from IPython import display\n",
        "import pickle\n",
        "import datetime\n",
        "import os\n",
        "import random\n",
        "from shutil import copyfile\n",
        "from random import seed\n",
        "from tqdm import tqdm\n",
        "\n",
        "import nltk\n",
        "nltk.download('all')\n",
        "import re\n",
        "import string\n",
        "import lxml.html.clean\n",
        "import lxml.html\n",
        "from nltk.tokenize import RegexpTokenizer, word_tokenize \n",
        "from nltk.corpus import stopwords\n",
        "from nltk.stem import WordNetLemmatizer\n",
        "from sklearn.feature_extraction.text import CountVectorizer, TfidfVectorizer\n",
        "from sklearn.model_selection import train_test_split\n",
        "from sklearn.metrics import confusion_matrix, classification_report, accuracy_score\n",
        "from sklearn.utils import shuffle\n",
        "import gensim\n",
        "from gensim.models.word2vec import Word2Vec\n",
        "LabeledSentence = gensim.models.doc2vec.LabeledSentence\n",
        "\n",
        "from keras.models import Sequential\n",
        "from keras.initializers import Constant\n",
        "from keras.layers import LSTM, Embedding, Dense, TimeDistributed, Dropout, Bidirectional, Flatten, GlobalMaxPool1D, GRU\n",
        "from nltk.tokenize import word_tokenize\n",
        "from keras.preprocessing.text import Tokenizer\n",
        "from keras.preprocessing.sequence import pad_sequences\n",
        "from keras.layers.embeddings import Embedding\n",
        "import tensorflow as tf\n",
        "from tensorflow.keras import layers\n",
        "from tensorflow.keras.models import Model\n",
        "from tensorflow.keras.preprocessing.text import Tokenizer\n",
        "from tensorflow.keras.preprocessing.sequence import pad_sequences\n",
        "from tensorflow.keras.layers import Conv1D, Bidirectional, LSTM, Dense, Dropout, Input, SpatialDropout1D\n",
        "from tensorflow.keras.callbacks import ModelCheckpoint, ReduceLROnPlateau\n",
        "from tensorflow.keras.optimizers import Adam\n",
        "from tokenizers import BertWordPieceTokenizer\n",
        "from transformers import BertTokenizer, TFBertModel, BertConfig\n",
        "import tensorflow_hub as hub\n",
        "import tensorflow_text as text\n",
        "from tensorflow.keras.layers import BatchNormalization\n",
        "\n",
        "\n",
        "%matplotlib inline\n",
        "clear_output()"
      ]
    },
    {
      "cell_type": "code",
      "source": [
        "!wget --no-check-certificate 'https://docs.google.com/uc?export=download&id=1Hqs_GVKEqC24F_Ieth0wlV7DM6BTmUS0' -O kaggle.json.zip\n",
        "\n",
        "clear_output()"
      ],
      "metadata": {
        "id": "e6bvYRoafRvQ"
      },
      "execution_count": 4,
      "outputs": []
    },
    {
      "cell_type": "code",
      "source": [
        "with zipfile.ZipFile('kaggle.json.zip', 'r') as zip_ref:\n",
        "    zip_ref.extractall('kaggle.json')"
      ],
      "metadata": {
        "id": "v2b6_pT3hvxO"
      },
      "execution_count": 5,
      "outputs": []
    },
    {
      "cell_type": "code",
      "source": [
        "! pip install kaggle\n",
        "\n",
        "clear_output()"
      ],
      "metadata": {
        "id": "EL4Y2aQ8hzEd"
      },
      "execution_count": 6,
      "outputs": []
    },
    {
      "cell_type": "code",
      "source": [
        "! mkdir ~/.kaggle"
      ],
      "metadata": {
        "id": "XedZ3SuJh1Zd"
      },
      "execution_count": 7,
      "outputs": []
    },
    {
      "cell_type": "code",
      "source": [
        "! cp ./kaggle.json/kaggle.json ~/.kaggle/"
      ],
      "metadata": {
        "id": "E9u4iSVhh5F8"
      },
      "execution_count": 8,
      "outputs": []
    },
    {
      "cell_type": "code",
      "source": [
        "! chmod 600 ~/.kaggle/kaggle.json"
      ],
      "metadata": {
        "id": "t1pCW3MZh8dX"
      },
      "execution_count": 9,
      "outputs": []
    },
    {
      "cell_type": "code",
      "source": [
        "! kaggle competitions download -c nlp-getting-started\n",
        "\n",
        "clear_output()"
      ],
      "metadata": {
        "id": "ptYr4ineh-pH"
      },
      "execution_count": 10,
      "outputs": []
    },
    {
      "cell_type": "code",
      "source": [
        "df_train = pd.read_csv('./train.csv')\n",
        "df_test = pd.read_csv('./test.csv')"
      ],
      "metadata": {
        "id": "JvQ7fkBWiXqp"
      },
      "execution_count": 11,
      "outputs": []
    },
    {
      "cell_type": "code",
      "source": [
        "df_train.head()"
      ],
      "metadata": {
        "colab": {
          "base_uri": "https://localhost:8080/",
          "height": 206
        },
        "id": "q1Eu1GHdsgGc",
        "outputId": "a9f38779-d59b-4209-8d49-770d9e9f1efb"
      },
      "execution_count": 12,
      "outputs": [
        {
          "output_type": "execute_result",
          "data": {
            "text/html": [
              "\n",
              "  <div id=\"df-0e0d905b-8f05-4f13-becf-36e317dfb799\">\n",
              "    <div class=\"colab-df-container\">\n",
              "      <div>\n",
              "<style scoped>\n",
              "    .dataframe tbody tr th:only-of-type {\n",
              "        vertical-align: middle;\n",
              "    }\n",
              "\n",
              "    .dataframe tbody tr th {\n",
              "        vertical-align: top;\n",
              "    }\n",
              "\n",
              "    .dataframe thead th {\n",
              "        text-align: right;\n",
              "    }\n",
              "</style>\n",
              "<table border=\"1\" class=\"dataframe\">\n",
              "  <thead>\n",
              "    <tr style=\"text-align: right;\">\n",
              "      <th></th>\n",
              "      <th>id</th>\n",
              "      <th>keyword</th>\n",
              "      <th>location</th>\n",
              "      <th>text</th>\n",
              "      <th>target</th>\n",
              "    </tr>\n",
              "  </thead>\n",
              "  <tbody>\n",
              "    <tr>\n",
              "      <th>0</th>\n",
              "      <td>1</td>\n",
              "      <td>NaN</td>\n",
              "      <td>NaN</td>\n",
              "      <td>Our Deeds are the Reason of this #earthquake M...</td>\n",
              "      <td>1</td>\n",
              "    </tr>\n",
              "    <tr>\n",
              "      <th>1</th>\n",
              "      <td>4</td>\n",
              "      <td>NaN</td>\n",
              "      <td>NaN</td>\n",
              "      <td>Forest fire near La Ronge Sask. Canada</td>\n",
              "      <td>1</td>\n",
              "    </tr>\n",
              "    <tr>\n",
              "      <th>2</th>\n",
              "      <td>5</td>\n",
              "      <td>NaN</td>\n",
              "      <td>NaN</td>\n",
              "      <td>All residents asked to 'shelter in place' are ...</td>\n",
              "      <td>1</td>\n",
              "    </tr>\n",
              "    <tr>\n",
              "      <th>3</th>\n",
              "      <td>6</td>\n",
              "      <td>NaN</td>\n",
              "      <td>NaN</td>\n",
              "      <td>13,000 people receive #wildfires evacuation or...</td>\n",
              "      <td>1</td>\n",
              "    </tr>\n",
              "    <tr>\n",
              "      <th>4</th>\n",
              "      <td>7</td>\n",
              "      <td>NaN</td>\n",
              "      <td>NaN</td>\n",
              "      <td>Just got sent this photo from Ruby #Alaska as ...</td>\n",
              "      <td>1</td>\n",
              "    </tr>\n",
              "  </tbody>\n",
              "</table>\n",
              "</div>\n",
              "      <button class=\"colab-df-convert\" onclick=\"convertToInteractive('df-0e0d905b-8f05-4f13-becf-36e317dfb799')\"\n",
              "              title=\"Convert this dataframe to an interactive table.\"\n",
              "              style=\"display:none;\">\n",
              "        \n",
              "  <svg xmlns=\"http://www.w3.org/2000/svg\" height=\"24px\"viewBox=\"0 0 24 24\"\n",
              "       width=\"24px\">\n",
              "    <path d=\"M0 0h24v24H0V0z\" fill=\"none\"/>\n",
              "    <path d=\"M18.56 5.44l.94 2.06.94-2.06 2.06-.94-2.06-.94-.94-2.06-.94 2.06-2.06.94zm-11 1L8.5 8.5l.94-2.06 2.06-.94-2.06-.94L8.5 2.5l-.94 2.06-2.06.94zm10 10l.94 2.06.94-2.06 2.06-.94-2.06-.94-.94-2.06-.94 2.06-2.06.94z\"/><path d=\"M17.41 7.96l-1.37-1.37c-.4-.4-.92-.59-1.43-.59-.52 0-1.04.2-1.43.59L10.3 9.45l-7.72 7.72c-.78.78-.78 2.05 0 2.83L4 21.41c.39.39.9.59 1.41.59.51 0 1.02-.2 1.41-.59l7.78-7.78 2.81-2.81c.8-.78.8-2.07 0-2.86zM5.41 20L4 18.59l7.72-7.72 1.47 1.35L5.41 20z\"/>\n",
              "  </svg>\n",
              "      </button>\n",
              "      \n",
              "  <style>\n",
              "    .colab-df-container {\n",
              "      display:flex;\n",
              "      flex-wrap:wrap;\n",
              "      gap: 12px;\n",
              "    }\n",
              "\n",
              "    .colab-df-convert {\n",
              "      background-color: #E8F0FE;\n",
              "      border: none;\n",
              "      border-radius: 50%;\n",
              "      cursor: pointer;\n",
              "      display: none;\n",
              "      fill: #1967D2;\n",
              "      height: 32px;\n",
              "      padding: 0 0 0 0;\n",
              "      width: 32px;\n",
              "    }\n",
              "\n",
              "    .colab-df-convert:hover {\n",
              "      background-color: #E2EBFA;\n",
              "      box-shadow: 0px 1px 2px rgba(60, 64, 67, 0.3), 0px 1px 3px 1px rgba(60, 64, 67, 0.15);\n",
              "      fill: #174EA6;\n",
              "    }\n",
              "\n",
              "    [theme=dark] .colab-df-convert {\n",
              "      background-color: #3B4455;\n",
              "      fill: #D2E3FC;\n",
              "    }\n",
              "\n",
              "    [theme=dark] .colab-df-convert:hover {\n",
              "      background-color: #434B5C;\n",
              "      box-shadow: 0px 1px 3px 1px rgba(0, 0, 0, 0.15);\n",
              "      filter: drop-shadow(0px 1px 2px rgba(0, 0, 0, 0.3));\n",
              "      fill: #FFFFFF;\n",
              "    }\n",
              "  </style>\n",
              "\n",
              "      <script>\n",
              "        const buttonEl =\n",
              "          document.querySelector('#df-0e0d905b-8f05-4f13-becf-36e317dfb799 button.colab-df-convert');\n",
              "        buttonEl.style.display =\n",
              "          google.colab.kernel.accessAllowed ? 'block' : 'none';\n",
              "\n",
              "        async function convertToInteractive(key) {\n",
              "          const element = document.querySelector('#df-0e0d905b-8f05-4f13-becf-36e317dfb799');\n",
              "          const dataTable =\n",
              "            await google.colab.kernel.invokeFunction('convertToInteractive',\n",
              "                                                     [key], {});\n",
              "          if (!dataTable) return;\n",
              "\n",
              "          const docLinkHtml = 'Like what you see? Visit the ' +\n",
              "            '<a target=\"_blank\" href=https://colab.research.google.com/notebooks/data_table.ipynb>data table notebook</a>'\n",
              "            + ' to learn more about interactive tables.';\n",
              "          element.innerHTML = '';\n",
              "          dataTable['output_type'] = 'display_data';\n",
              "          await google.colab.output.renderOutput(dataTable, element);\n",
              "          const docLink = document.createElement('div');\n",
              "          docLink.innerHTML = docLinkHtml;\n",
              "          element.appendChild(docLink);\n",
              "        }\n",
              "      </script>\n",
              "    </div>\n",
              "  </div>\n",
              "  "
            ],
            "text/plain": [
              "   id keyword location                                               text  \\\n",
              "0   1     NaN      NaN  Our Deeds are the Reason of this #earthquake M...   \n",
              "1   4     NaN      NaN             Forest fire near La Ronge Sask. Canada   \n",
              "2   5     NaN      NaN  All residents asked to 'shelter in place' are ...   \n",
              "3   6     NaN      NaN  13,000 people receive #wildfires evacuation or...   \n",
              "4   7     NaN      NaN  Just got sent this photo from Ruby #Alaska as ...   \n",
              "\n",
              "   target  \n",
              "0       1  \n",
              "1       1  \n",
              "2       1  \n",
              "3       1  \n",
              "4       1  "
            ]
          },
          "metadata": {},
          "execution_count": 12
        }
      ]
    },
    {
      "cell_type": "markdown",
      "source": [
        "### Data Prep"
      ],
      "metadata": {
        "id": "eFKWZDBYi211"
      }
    },
    {
      "cell_type": "code",
      "source": [
        "df_train.info()"
      ],
      "metadata": {
        "colab": {
          "base_uri": "https://localhost:8080/"
        },
        "id": "0PwJvm1C0xxS",
        "outputId": "1b795344-7a87-4655-c405-b5135ac4dd2c"
      },
      "execution_count": 13,
      "outputs": [
        {
          "output_type": "stream",
          "name": "stdout",
          "text": [
            "<class 'pandas.core.frame.DataFrame'>\n",
            "RangeIndex: 7613 entries, 0 to 7612\n",
            "Data columns (total 5 columns):\n",
            " #   Column    Non-Null Count  Dtype \n",
            "---  ------    --------------  ----- \n",
            " 0   id        7613 non-null   int64 \n",
            " 1   keyword   7552 non-null   object\n",
            " 2   location  5080 non-null   object\n",
            " 3   text      7613 non-null   object\n",
            " 4   target    7613 non-null   int64 \n",
            "dtypes: int64(2), object(3)\n",
            "memory usage: 297.5+ KB\n"
          ]
        }
      ]
    },
    {
      "cell_type": "code",
      "source": [
        "df_train['target'].value_counts(normalize=True)"
      ],
      "metadata": {
        "colab": {
          "base_uri": "https://localhost:8080/"
        },
        "id": "qr-nPxv8zCg5",
        "outputId": "13a2a1d4-222b-4d31-9670-4049866f3604"
      },
      "execution_count": 14,
      "outputs": [
        {
          "output_type": "execute_result",
          "data": {
            "text/plain": [
              "0    0.57034\n",
              "1    0.42966\n",
              "Name: target, dtype: float64"
            ]
          },
          "metadata": {},
          "execution_count": 14
        }
      ]
    },
    {
      "cell_type": "code",
      "source": [
        "char_lens = df_train['text'].str.len()\n",
        "char_lens.hist()"
      ],
      "metadata": {
        "colab": {
          "base_uri": "https://localhost:8080/",
          "height": 283
        },
        "id": "_nybbr4e0hxE",
        "outputId": "4fe19c3d-2032-4529-8ba9-db4537cfb68e"
      },
      "execution_count": 15,
      "outputs": [
        {
          "output_type": "execute_result",
          "data": {
            "text/plain": [
              "<matplotlib.axes._subplots.AxesSubplot at 0x7fc76651ae10>"
            ]
          },
          "metadata": {},
          "execution_count": 15
        },
        {
          "output_type": "display_data",
          "data": {
            "image/png": "[encoded data removed]",
            "text/plain": [
              "<Figure size 432x288 with 1 Axes>"
            ]
          },
          "metadata": {
            "needs_background": "light"
          }
        }
      ]
    },
    {
      "cell_type": "code",
      "source": [
        "word_lens = df_train['text'].str.split().str.len()\n",
        "word_lens.hist()"
      ],
      "metadata": {
        "colab": {
          "base_uri": "https://localhost:8080/",
          "height": 283
        },
        "id": "lr-XCRUx1xT3",
        "outputId": "bb82649e-a3eb-4c0a-cc63-1a4f41e79df6"
      },
      "execution_count": 16,
      "outputs": [
        {
          "output_type": "execute_result",
          "data": {
            "text/plain": [
              "<matplotlib.axes._subplots.AxesSubplot at 0x7fc66240bad0>"
            ]
          },
          "metadata": {},
          "execution_count": 16
        },
        {
          "output_type": "display_data",
          "data": {
            "image/png": "[encoded data removed]",
            "text/plain": [
              "<Figure size 432x288 with 1 Axes>"
            ]
          },
          "metadata": {
            "needs_background": "light"
          }
        }
      ]
    },
    {
      "cell_type": "markdown",
      "source": [
        "Clean"
      ],
      "metadata": {
        "id": "eZC07iwAx6mO"
      }
    },
    {
      "cell_type": "code",
      "source": [
        "def remove_emoji(string):\n",
        "    emoji_pattern = re.compile(\"[\"\n",
        "                       u\"\\U0001F600-\\U0001F64F\"\n",
        "                       u\"\\U0001F300-\\U0001F5FF\"\n",
        "                       u\"\\U0001F680-\\U0001F6FF\"\n",
        "                       u\"\\U0001F1E0-\\U0001F1FF\"\n",
        "                       u\"\\U00002702-\\U000027B0\"\n",
        "\t\t                   u\"\\U000024C2-\\U0001F251\"\n",
        "\t\t                   u\"\\U0001f926-\\U0001f937\"\n",
        "\t\t                   u'\\U00010000-\\U0010ffff'\n",
        "\t\t                   u\"\\u200d\"\n",
        "\t\t                   u\"\\u2640-\\u2642\"\n",
        "\t\t                   u\"\\u2600-\\u2B55\"\n",
        "\t\t                   u\"\\u23cf\"\n",
        "\t\t                   u\"\\u23e9\"\n",
        "\t\t                   u\"\\u231a\"\n",
        "\t\t                   u\"\\u3030\"\n",
        "\t\t                   u\"\\ufe0f\"\n",
        "                           \"]+\", flags=re.UNICODE)\n",
        "    return emoji_pattern.sub(r' ', string)"
      ],
      "metadata": {
        "id": "woqK1NNtsVei"
      },
      "execution_count": 17,
      "outputs": []
    },
    {
      "cell_type": "code",
      "source": [
        "# def preprocess(df):\n",
        "#   # Correct HTML encodings\n",
        "#   html_cleaner = lxml.html.clean.Cleaner(style=True)\n",
        "#   df['text'] = df['text'].map(lambda x: html_cleaner.clean_html(lxml.html.fromstring(x)).text_content())\n",
        "#   # Remove Emojis\n",
        "#   df['text'] = df['text'].map(lambda x: remove_emoji(x))\n",
        "#   # Remove line breaks etc.\n",
        "#   df['text'] = df['text'].map(lambda x: re.sub(r'\\n|\\r', '', x))\n",
        "#   # Remove URLs\n",
        "#   df['text'] = df['text'].map(lambda x: re.sub(r'\\w+:\\/{2}[\\d\\w-]+(\\.[\\d\\w-]+)*(?:(?:\\/[^\\s/]*))*', '', x, flags=re.MULTILINE))\n",
        "#   # Remove Punctuation\n",
        "#   df['text'] = df['text'].map(lambda x: re.sub(r'[^\\w\\s]','',x))\n",
        "#   # Lowercase\n",
        "#   df['text'] = df['text'].map(lambda x: x.lower())\n",
        "#   # Remove records where clean_tweet is null or empty strings\n",
        "#   df = df.dropna(subset=['text'])\n",
        "#   df = df[(df['text'] != '') & (df['text'] != ' ')].reset_index().drop(\"index\", axis=1)\n",
        "#   # Stop words\n",
        "#   text_with_no_stop_word = [w.lower() for w in clean_text if not w in stop_words]  \n",
        "  \n",
        "#   return df\n"
      ],
      "metadata": {
        "id": "hu6ZL-vqfAvy"
      },
      "execution_count": 18,
      "outputs": []
    },
    {
      "cell_type": "code",
      "source": [
        "def process(text):\n",
        "  # Correct HMTML encodings\n",
        "  html_cleaner = lxml.html.clean.Cleaner(style=True)\n",
        "  text = html_cleaner.clean_html(lxml.html.fromstring(text)).text_content()\n",
        "  # Remove emojis\n",
        "  text = remove_emoji(text)\n",
        "  # Remove line breaks etc.\n",
        "  text = re.sub(r'\\n|\\r', '', text)\n",
        "  # Remove URLs\n",
        "  text = re.sub(r'\\w+:\\/{2}[\\d\\w-]+(\\.[\\d\\w-]+)*(?:(?:\\/[^\\s/]*))*', '', text, flags=re.MULTILINE)\n",
        "  # Remove puncutation\n",
        "  text = re.sub(r'[^\\w\\s]','', text)\n",
        "  # Lowercase\n",
        "  text = text.lower()\n",
        "  # Lemmatize\n",
        "  lemmatizer = WordNetLemmatizer()\n",
        "  text = ' '.join([lemmatizer.lemmatize(w) for w in text.split()])\n",
        "  # Remove stopwords\n",
        "  stop_words = set(stopwords.words('english'))\n",
        "  text = [x for x in text.split() if not x in stop_words]  \n",
        "\n",
        "\n",
        "  return \" \".join(\" \".join(text).split())"
      ],
      "metadata": {
        "id": "rpeML7tK3OXy"
      },
      "execution_count": 19,
      "outputs": []
    },
    {
      "cell_type": "code",
      "source": [
        "df_train['clean_text'] = df_train['text'].apply(lambda x: process(x))\n",
        "df_test['clean_text'] = df_test['text'].apply(lambda x: process(x))"
      ],
      "metadata": {
        "id": "OKeaU_gyfAlC"
      },
      "execution_count": 20,
      "outputs": []
    },
    {
      "cell_type": "code",
      "source": [
        "df_train.head(10)"
      ],
      "metadata": {
        "colab": {
          "base_uri": "https://localhost:8080/",
          "height": 494
        },
        "id": "Fz_mnwzh6D5n",
        "outputId": "3bbe4c61-76aa-408a-90cb-b075373a8f29"
      },
      "execution_count": 21,
      "outputs": [
        {
          "output_type": "execute_result",
          "data": {
            "text/html": [
              "\n",
              "  <div id=\"df-13bdb5b9-6598-4294-aa1e-f93a4dc3bfea\">\n",
              "    <div class=\"colab-df-container\">\n",
              "      <div>\n",
              "<style scoped>\n",
              "    .dataframe tbody tr th:only-of-type {\n",
              "        vertical-align: middle;\n",
              "    }\n",
              "\n",
              "    .dataframe tbody tr th {\n",
              "        vertical-align: top;\n",
              "    }\n",
              "\n",
              "    .dataframe thead th {\n",
              "        text-align: right;\n",
              "    }\n",
              "</style>\n",
              "<table border=\"1\" class=\"dataframe\">\n",
              "  <thead>\n",
              "    <tr style=\"text-align: right;\">\n",
              "      <th></th>\n",
              "      <th>id</th>\n",
              "      <th>keyword</th>\n",
              "      <th>location</th>\n",
              "      <th>text</th>\n",
              "      <th>target</th>\n",
              "      <th>clean_text</th>\n",
              "    </tr>\n",
              "  </thead>\n",
              "  <tbody>\n",
              "    <tr>\n",
              "      <th>0</th>\n",
              "      <td>1</td>\n",
              "      <td>NaN</td>\n",
              "      <td>NaN</td>\n",
              "      <td>Our Deeds are the Reason of this #earthquake M...</td>\n",
              "      <td>1</td>\n",
              "      <td>deed reason earthquake may allah forgive u</td>\n",
              "    </tr>\n",
              "    <tr>\n",
              "      <th>1</th>\n",
              "      <td>4</td>\n",
              "      <td>NaN</td>\n",
              "      <td>NaN</td>\n",
              "      <td>Forest fire near La Ronge Sask. Canada</td>\n",
              "      <td>1</td>\n",
              "      <td>forest fire near la ronge sask canada</td>\n",
              "    </tr>\n",
              "    <tr>\n",
              "      <th>2</th>\n",
              "      <td>5</td>\n",
              "      <td>NaN</td>\n",
              "      <td>NaN</td>\n",
              "      <td>All residents asked to 'shelter in place' are ...</td>\n",
              "      <td>1</td>\n",
              "      <td>resident asked shelter place notified officer ...</td>\n",
              "    </tr>\n",
              "    <tr>\n",
              "      <th>3</th>\n",
              "      <td>6</td>\n",
              "      <td>NaN</td>\n",
              "      <td>NaN</td>\n",
              "      <td>13,000 people receive #wildfires evacuation or...</td>\n",
              "      <td>1</td>\n",
              "      <td>13000 people receive wildfire evacuation order...</td>\n",
              "    </tr>\n",
              "    <tr>\n",
              "      <th>4</th>\n",
              "      <td>7</td>\n",
              "      <td>NaN</td>\n",
              "      <td>NaN</td>\n",
              "      <td>Just got sent this photo from Ruby #Alaska as ...</td>\n",
              "      <td>1</td>\n",
              "      <td>got sent photo ruby alaska smoke wildfire pour...</td>\n",
              "    </tr>\n",
              "    <tr>\n",
              "      <th>5</th>\n",
              "      <td>8</td>\n",
              "      <td>NaN</td>\n",
              "      <td>NaN</td>\n",
              "      <td>#RockyFire Update =&gt; California Hwy. 20 closed...</td>\n",
              "      <td>1</td>\n",
              "      <td>rockyfire update california hwy 20 closed dire...</td>\n",
              "    </tr>\n",
              "    <tr>\n",
              "      <th>6</th>\n",
              "      <td>10</td>\n",
              "      <td>NaN</td>\n",
              "      <td>NaN</td>\n",
              "      <td>#flood #disaster Heavy rain causes flash flood...</td>\n",
              "      <td>1</td>\n",
              "      <td>flood disaster heavy rain cause flash flooding...</td>\n",
              "    </tr>\n",
              "    <tr>\n",
              "      <th>7</th>\n",
              "      <td>13</td>\n",
              "      <td>NaN</td>\n",
              "      <td>NaN</td>\n",
              "      <td>I'm on top of the hill and I can see a fire in...</td>\n",
              "      <td>1</td>\n",
              "      <td>im top hill see fire wood</td>\n",
              "    </tr>\n",
              "    <tr>\n",
              "      <th>8</th>\n",
              "      <td>14</td>\n",
              "      <td>NaN</td>\n",
              "      <td>NaN</td>\n",
              "      <td>There's an emergency evacuation happening now ...</td>\n",
              "      <td>1</td>\n",
              "      <td>emergency evacuation happening building across...</td>\n",
              "    </tr>\n",
              "    <tr>\n",
              "      <th>9</th>\n",
              "      <td>15</td>\n",
              "      <td>NaN</td>\n",
              "      <td>NaN</td>\n",
              "      <td>I'm afraid that the tornado is coming to our a...</td>\n",
              "      <td>1</td>\n",
              "      <td>im afraid tornado coming area</td>\n",
              "    </tr>\n",
              "  </tbody>\n",
              "</table>\n",
              "</div>\n",
              "      <button class=\"colab-df-convert\" onclick=\"convertToInteractive('df-13bdb5b9-6598-4294-aa1e-f93a4dc3bfea')\"\n",
              "              title=\"Convert this dataframe to an interactive table.\"\n",
              "              style=\"display:none;\">\n",
              "        \n",
              "  <svg xmlns=\"http://www.w3.org/2000/svg\" height=\"24px\"viewBox=\"0 0 24 24\"\n",
              "       width=\"24px\">\n",
              "    <path d=\"M0 0h24v24H0V0z\" fill=\"none\"/>\n",
              "    <path d=\"M18.56 5.44l.94 2.06.94-2.06 2.06-.94-2.06-.94-.94-2.06-.94 2.06-2.06.94zm-11 1L8.5 8.5l.94-2.06 2.06-.94-2.06-.94L8.5 2.5l-.94 2.06-2.06.94zm10 10l.94 2.06.94-2.06 2.06-.94-2.06-.94-.94-2.06-.94 2.06-2.06.94z\"/><path d=\"M17.41 7.96l-1.37-1.37c-.4-.4-.92-.59-1.43-.59-.52 0-1.04.2-1.43.59L10.3 9.45l-7.72 7.72c-.78.78-.78 2.05 0 2.83L4 21.41c.39.39.9.59 1.41.59.51 0 1.02-.2 1.41-.59l7.78-7.78 2.81-2.81c.8-.78.8-2.07 0-2.86zM5.41 20L4 18.59l7.72-7.72 1.47 1.35L5.41 20z\"/>\n",
              "  </svg>\n",
              "      </button>\n",
              "      \n",
              "  <style>\n",
              "    .colab-df-container {\n",
              "      display:flex;\n",
              "      flex-wrap:wrap;\n",
              "      gap: 12px;\n",
              "    }\n",
              "\n",
              "    .colab-df-convert {\n",
              "      background-color: #E8F0FE;\n",
              "      border: none;\n",
              "      border-radius: 50%;\n",
              "      cursor: pointer;\n",
              "      display: none;\n",
              "      fill: #1967D2;\n",
              "      height: 32px;\n",
              "      padding: 0 0 0 0;\n",
              "      width: 32px;\n",
              "    }\n",
              "\n",
              "    .colab-df-convert:hover {\n",
              "      background-color: #E2EBFA;\n",
              "      box-shadow: 0px 1px 2px rgba(60, 64, 67, 0.3), 0px 1px 3px 1px rgba(60, 64, 67, 0.15);\n",
              "      fill: #174EA6;\n",
              "    }\n",
              "\n",
              "    [theme=dark] .colab-df-convert {\n",
              "      background-color: #3B4455;\n",
              "      fill: #D2E3FC;\n",
              "    }\n",
              "\n",
              "    [theme=dark] .colab-df-convert:hover {\n",
              "      background-color: #434B5C;\n",
              "      box-shadow: 0px 1px 3px 1px rgba(0, 0, 0, 0.15);\n",
              "      filter: drop-shadow(0px 1px 2px rgba(0, 0, 0, 0.3));\n",
              "      fill: #FFFFFF;\n",
              "    }\n",
              "  </style>\n",
              "\n",
              "      <script>\n",
              "        const buttonEl =\n",
              "          document.querySelector('#df-13bdb5b9-6598-4294-aa1e-f93a4dc3bfea button.colab-df-convert');\n",
              "        buttonEl.style.display =\n",
              "          google.colab.kernel.accessAllowed ? 'block' : 'none';\n",
              "\n",
              "        async function convertToInteractive(key) {\n",
              "          const element = document.querySelector('#df-13bdb5b9-6598-4294-aa1e-f93a4dc3bfea');\n",
              "          const dataTable =\n",
              "            await google.colab.kernel.invokeFunction('convertToInteractive',\n",
              "                                                     [key], {});\n",
              "          if (!dataTable) return;\n",
              "\n",
              "          const docLinkHtml = 'Like what you see? Visit the ' +\n",
              "            '<a target=\"_blank\" href=https://colab.research.google.com/notebooks/data_table.ipynb>data table notebook</a>'\n",
              "            + ' to learn more about interactive tables.';\n",
              "          element.innerHTML = '';\n",
              "          dataTable['output_type'] = 'display_data';\n",
              "          await google.colab.output.renderOutput(dataTable, element);\n",
              "          const docLink = document.createElement('div');\n",
              "          docLink.innerHTML = docLinkHtml;\n",
              "          element.appendChild(docLink);\n",
              "        }\n",
              "      </script>\n",
              "    </div>\n",
              "  </div>\n",
              "  "
            ],
            "text/plain": [
              "   id keyword location                                               text  \\\n",
              "0   1     NaN      NaN  Our Deeds are the Reason of this #earthquake M...   \n",
              "1   4     NaN      NaN             Forest fire near La Ronge Sask. Canada   \n",
              "2   5     NaN      NaN  All residents asked to 'shelter in place' are ...   \n",
              "3   6     NaN      NaN  13,000 people receive #wildfires evacuation or...   \n",
              "4   7     NaN      NaN  Just got sent this photo from Ruby #Alaska as ...   \n",
              "5   8     NaN      NaN  #RockyFire Update => California Hwy. 20 closed...   \n",
              "6  10     NaN      NaN  #flood #disaster Heavy rain causes flash flood...   \n",
              "7  13     NaN      NaN  I'm on top of the hill and I can see a fire in...   \n",
              "8  14     NaN      NaN  There's an emergency evacuation happening now ...   \n",
              "9  15     NaN      NaN  I'm afraid that the tornado is coming to our a...   \n",
              "\n",
              "   target                                         clean_text  \n",
              "0       1         deed reason earthquake may allah forgive u  \n",
              "1       1              forest fire near la ronge sask canada  \n",
              "2       1  resident asked shelter place notified officer ...  \n",
              "3       1  13000 people receive wildfire evacuation order...  \n",
              "4       1  got sent photo ruby alaska smoke wildfire pour...  \n",
              "5       1  rockyfire update california hwy 20 closed dire...  \n",
              "6       1  flood disaster heavy rain cause flash flooding...  \n",
              "7       1                          im top hill see fire wood  \n",
              "8       1  emergency evacuation happening building across...  \n",
              "9       1                      im afraid tornado coming area  "
            ]
          },
          "metadata": {},
          "execution_count": 21
        }
      ]
    },
    {
      "cell_type": "code",
      "source": [
        "x_train, x_test, y_train, y_test = train_test_split(df_train['clean_text'],\n",
        "                                                                   df_train['target'],\n",
        "                                                                   test_size=0.2,\n",
        "                                                                   random_state=0, \n",
        "                                                                   shuffle=True)\n"
      ],
      "metadata": {
        "id": "6s8yfwKH9ObW"
      },
      "execution_count": 22,
      "outputs": []
    },
    {
      "cell_type": "code",
      "source": [
        "embedding_dim = 300\n",
        "learning_rate = 1e-3\n",
        "batch_size = 1024\n",
        "epochs = 20\n",
        "sequence_len = 100"
      ],
      "metadata": {
        "id": "nele95mQfQNx"
      },
      "execution_count": 23,
      "outputs": []
    },
    {
      "cell_type": "code",
      "source": [
        "y_train_LSTM = y_train.values.reshape(-1,1)\n",
        "y_test_LSTM = y_test.values.reshape(-1,1)\n",
        "\n",
        "print(\"Training Y shape:\", y_train_LSTM.shape)\n",
        "print(\"Testing Y shape:\", y_test_LSTM.shape)\n"
      ],
      "metadata": {
        "colab": {
          "base_uri": "https://localhost:8080/"
        },
        "id": "DfAt3LeOeti_",
        "outputId": "77d3a373-223b-4c00-c157-ef99226e47e1"
      },
      "execution_count": 24,
      "outputs": [
        {
          "output_type": "stream",
          "name": "stdout",
          "text": [
            "Training Y shape: (6090, 1)\n",
            "Testing Y shape: (1523, 1)\n"
          ]
        }
      ]
    },
    {
      "cell_type": "code",
      "source": [
        "# Tokenize train data\n",
        "tokenizer = Tokenizer()\n",
        "tokenizer.fit_on_texts(x_train)\n",
        "\n",
        "word_index = tokenizer.word_index\n",
        "vocab_size = len(word_index) + 1\n",
        "print(\"Vocabulary Size: \", vocab_size)"
      ],
      "metadata": {
        "colab": {
          "base_uri": "https://localhost:8080/"
        },
        "id": "4kvePhTVeyvX",
        "outputId": "d237af65-b095-4f6d-f9e6-5db240dda88b"
      },
      "execution_count": 25,
      "outputs": [
        {
          "output_type": "stream",
          "name": "stdout",
          "text": [
            "Vocabulary Size:  14708\n"
          ]
        }
      ]
    },
    {
      "cell_type": "code",
      "source": [
        "# Pad train and test \n",
        "x_train = pad_sequences(tokenizer.texts_to_sequences(x_train), maxlen=sequence_len)\n",
        "x_test = pad_sequences(tokenizer.texts_to_sequences(x_test), maxlen=sequence_len)\n",
        "\n",
        "print(\"Training X shape: \", x_train.shape)\n",
        "print(\"Testing X shape: \", x_test.shape)"
      ],
      "metadata": {
        "colab": {
          "base_uri": "https://localhost:8080/"
        },
        "id": "qD2gAErKe_zw",
        "outputId": "18924457-3313-4d6c-8719-a65ebe920efe"
      },
      "execution_count": 26,
      "outputs": [
        {
          "output_type": "stream",
          "name": "stdout",
          "text": [
            "Training X shape:  (6090, 100)\n",
            "Testing X shape:  (1523, 100)\n"
          ]
        }
      ]
    },
    {
      "cell_type": "markdown",
      "source": [
        "GloVe Embeddings"
      ],
      "metadata": {
        "id": "TgolHHmKTk59"
      }
    },
    {
      "cell_type": "code",
      "source": [
        "path = './drive/MyDrive/Colab Notebooks/MSDS422/'\n",
        "filename = 'glove.6B.300d.txt'\n",
        "\n",
        "# read in embedding\n",
        "embeddings_index = {}\n",
        "with open(path+filename) as f:\n",
        "    for line in f:\n",
        "        word, coefs = line.split(maxsplit=1)\n",
        "        coefs = np.fromstring(coefs, \"f\", sep=\" \")\n",
        "        embeddings_index[word] = coefs\n",
        "\n",
        "\n",
        "print(\"Found %s word vectors.\" % len(embeddings_index))"
      ],
      "metadata": {
        "colab": {
          "base_uri": "https://localhost:8080/"
        },
        "id": "4F68NZpOTrAE",
        "outputId": "729affb3-ab5f-4975-a4ce-71e34c490dea"
      },
      "execution_count": 27,
      "outputs": [
        {
          "output_type": "stream",
          "name": "stdout",
          "text": [
            "Found 400000 word vectors.\n"
          ]
        }
      ]
    },
    {
      "cell_type": "code",
      "source": [
        "# Define embedding layer in Keras\n",
        "vocab_size = len(embeddings_index)\n",
        "\n",
        "embedding_matrix = np.zeros((vocab_size, embedding_dim))\n",
        "for word, i in word_index.items():\n",
        "    embedding_vector = embeddings_index.get(word)\n",
        "    if embedding_vector is not None:\n",
        "        embedding_matrix[i] = embedding_vector\n",
        "        \n",
        "embedding_layer = tf.keras.layers.Embedding(vocab_size,\n",
        "                                            embedding_dim,\n",
        "                                            weights=[embedding_matrix],\n",
        "                                            input_length=sequence_len,\n",
        "                                            trainable=False)"
      ],
      "metadata": {
        "id": "WQgtAEh5UKxp"
      },
      "execution_count": 28,
      "outputs": []
    },
    {
      "cell_type": "markdown",
      "source": [
        "### Modeling"
      ],
      "metadata": {
        "id": "CQHDSJoz_c3p"
      }
    },
    {
      "cell_type": "markdown",
      "source": [
        "##### Model 1 - GloVe Embedding Bidirectional LSTM"
      ],
      "metadata": {
        "id": "TcwaMfBoD8SA"
      }
    },
    {
      "cell_type": "code",
      "source": [
        "sequence_input = Input(shape=(sequence_len, ), dtype='int32')\n",
        "embedding_sequences = embedding_layer(sequence_input)\n",
        "\n",
        "x = Conv1D(128, 5, activation='relu')(embedding_sequences)\n",
        "x = Bidirectional(LSTM(128, dropout=0.5, recurrent_dropout=0.2))(x)\n",
        "x = Dense(512, activation='relu')(x)\n",
        "x = Dropout(0.75)(x)\n",
        "x = Dense(512, activation='relu')(x)\n",
        "outputs = Dense(1, activation='sigmoid')(x)\n",
        "model = Model(sequence_input, outputs)\n",
        "model.summary()"
      ],
      "metadata": {
        "colab": {
          "base_uri": "https://localhost:8080/"
        },
        "id": "4MIPvyS9fAVD",
        "outputId": "929f8329-96da-4ef7-993d-e3355de4d840"
      },
      "execution_count": 29,
      "outputs": [
        {
          "output_type": "stream",
          "name": "stdout",
          "text": [
            "Model: \"model\"\n",
            "_________________________________________________________________\n",
            " Layer (type)                Output Shape              Param #   \n",
            "=================================================================\n",
            " input_1 (InputLayer)        [(None, 100)]             0         \n",
            "                                                                 \n",
            " embedding (Embedding)       (None, 100, 300)          120000000 \n",
            "                                                                 \n",
            " conv1d (Conv1D)             (None, 96, 128)           192128    \n",
            "                                                                 \n",
            " bidirectional (Bidirectiona  (None, 256)              263168    \n",
            " l)                                                              \n",
            "                                                                 \n",
            " dense (Dense)               (None, 512)               131584    \n",
            "                                                                 \n",
            " dropout (Dropout)           (None, 512)               0         \n",
            "                                                                 \n",
            " dense_1 (Dense)             (None, 512)               262656    \n",
            "                                                                 \n",
            " dense_2 (Dense)             (None, 1)                 513       \n",
            "                                                                 \n",
            "=================================================================\n",
            "Total params: 120,850,049\n",
            "Trainable params: 850,049\n",
            "Non-trainable params: 120,000,000\n",
            "_________________________________________________________________\n"
          ]
        }
      ]
    },
    {
      "cell_type": "code",
      "source": [
        "model.compile(optimizer=Adam(learning_rate=learning_rate), loss='binary_crossentropy', metrics=['acc'])"
      ],
      "metadata": {
        "id": "BL73lh8ZirpV"
      },
      "execution_count": 30,
      "outputs": []
    },
    {
      "cell_type": "code",
      "source": [
        "history = model.fit(x_train,\n",
        "                    y_train,\n",
        "                    batch_size=batch_size,\n",
        "                    epochs=epochs, \n",
        "                    validation_data=(x_test, y_test))"
      ],
      "metadata": {
        "colab": {
          "base_uri": "https://localhost:8080/"
        },
        "id": "sJhD5ED7jtXl",
        "outputId": "42c822d2-472f-479c-ad8c-827a17206940"
      },
      "execution_count": 31,
      "outputs": [
        {
          "output_type": "stream",
          "name": "stdout",
          "text": [
            "Epoch 1/20\n",
            "6/6 [==============================] - 67s 9s/step - loss: 0.6618 - acc: 0.5956 - val_loss: 0.5450 - val_acc: 0.7426\n",
            "Epoch 2/20\n",
            "6/6 [==============================] - 51s 9s/step - loss: 0.5378 - acc: 0.7660 - val_loss: 0.5002 - val_acc: 0.7682\n",
            "Epoch 3/20\n",
            "6/6 [==============================] - 52s 9s/step - loss: 0.4704 - acc: 0.7913 - val_loss: 0.4680 - val_acc: 0.7899\n",
            "Epoch 4/20\n",
            "6/6 [==============================] - 51s 9s/step - loss: 0.4432 - acc: 0.8080 - val_loss: 0.4782 - val_acc: 0.7905\n",
            "Epoch 5/20\n",
            "6/6 [==============================] - 78s 14s/step - loss: 0.4155 - acc: 0.8215 - val_loss: 0.4636 - val_acc: 0.7859\n",
            "Epoch 6/20\n",
            "6/6 [==============================] - 55s 9s/step - loss: 0.3966 - acc: 0.8309 - val_loss: 0.4578 - val_acc: 0.7951\n",
            "Epoch 7/20\n",
            "6/6 [==============================] - 63s 10s/step - loss: 0.3726 - acc: 0.8425 - val_loss: 0.4563 - val_acc: 0.8050\n",
            "Epoch 8/20\n",
            "6/6 [==============================] - 57s 9s/step - loss: 0.3465 - acc: 0.8565 - val_loss: 0.4689 - val_acc: 0.8050\n",
            "Epoch 9/20\n",
            "6/6 [==============================] - 52s 9s/step - loss: 0.3230 - acc: 0.8663 - val_loss: 0.4832 - val_acc: 0.8030\n",
            "Epoch 10/20\n",
            "6/6 [==============================] - 51s 9s/step - loss: 0.2816 - acc: 0.8910 - val_loss: 0.5086 - val_acc: 0.7997\n",
            "Epoch 11/20\n",
            "6/6 [==============================] - 51s 8s/step - loss: 0.2506 - acc: 0.9028 - val_loss: 0.5574 - val_acc: 0.7945\n",
            "Epoch 12/20\n",
            "6/6 [==============================] - 51s 9s/step - loss: 0.2203 - acc: 0.9131 - val_loss: 0.5943 - val_acc: 0.8056\n",
            "Epoch 13/20\n",
            "6/6 [==============================] - 53s 9s/step - loss: 0.1962 - acc: 0.9259 - val_loss: 0.6067 - val_acc: 0.7820\n",
            "Epoch 14/20\n",
            "6/6 [==============================] - 51s 9s/step - loss: 0.1718 - acc: 0.9345 - val_loss: 0.6918 - val_acc: 0.8030\n",
            "Epoch 15/20\n",
            "6/6 [==============================] - 50s 8s/step - loss: 0.1469 - acc: 0.9481 - val_loss: 0.6773 - val_acc: 0.7971\n",
            "Epoch 16/20\n",
            "6/6 [==============================] - 51s 9s/step - loss: 0.1323 - acc: 0.9539 - val_loss: 0.7706 - val_acc: 0.7873\n",
            "Epoch 17/20\n",
            "6/6 [==============================] - 50s 8s/step - loss: 0.1197 - acc: 0.9539 - val_loss: 0.7799 - val_acc: 0.7892\n",
            "Epoch 18/20\n",
            "6/6 [==============================] - 51s 9s/step - loss: 0.1009 - acc: 0.9631 - val_loss: 0.7926 - val_acc: 0.7840\n",
            "Epoch 19/20\n",
            "6/6 [==============================] - 51s 9s/step - loss: 0.1021 - acc: 0.9642 - val_loss: 0.8359 - val_acc: 0.7965\n",
            "Epoch 20/20\n",
            "6/6 [==============================] - 52s 9s/step - loss: 0.0976 - acc: 0.9663 - val_loss: 0.8210 - val_acc: 0.8037\n"
          ]
        }
      ]
    },
    {
      "cell_type": "code",
      "source": [
        "plt.plot(history.history['loss'])\n",
        "plt.plot(history.history['val_loss'])\n",
        "plt.title('model loss')\n",
        "plt.ylabel('loss')\n",
        "plt.xlabel('epoch')\n",
        "plt.legend(['train', 'test'], loc='best')\n",
        "plt.show();"
      ],
      "metadata": {
        "colab": {
          "base_uri": "https://localhost:8080/",
          "height": 295
        },
        "id": "vZ7mZuJ3jzmV",
        "outputId": "e7266a01-fda6-49ae-9e2c-5ee2c71e6096"
      },
      "execution_count": 32,
      "outputs": [
        {
          "output_type": "display_data",
          "data": {
            "image/png": "[encoded data removed]",
            "text/plain": [
              "<Figure size 432x288 with 1 Axes>"
            ]
          },
          "metadata": {
            "needs_background": "light"
          }
        }
      ]
    },
    {
      "cell_type": "code",
      "source": [
        "plt.plot(history.history['acc'])\n",
        "plt.plot(history.history['val_acc'])\n",
        "plt.title('model accuracy')\n",
        "plt.ylabel('accuracy')\n",
        "plt.xlabel('epoch')\n",
        "plt.legend(['train', 'test'], loc='best')\n",
        "plt.show();"
      ],
      "metadata": {
        "colab": {
          "base_uri": "https://localhost:8080/",
          "height": 295
        },
        "id": "QFVlRmL4kNYw",
        "outputId": "5b071878-818e-49a9-ec84-1329acbc2ac2"
      },
      "execution_count": 33,
      "outputs": [
        {
          "output_type": "display_data",
          "data": {
            "image/png": "[encoded data removed]",
            "text/plain": [
              "<Figure size 432x288 with 1 Axes>"
            ]
          },
          "metadata": {
            "needs_background": "light"
          }
        }
      ]
    },
    {
      "cell_type": "code",
      "source": [
        "pred = model.predict(x_test, verbose=0)\n",
        "y_pred = [1 if each > 0.5 else 0 for each in pred]\n",
        "\n",
        "score, test_accuracy = model.evaluate(x_test, y_test)\n",
        "\n",
        "print(\"Test Accuracy: \", test_accuracy)\n",
        "print(classification_report(list(y_test), y_pred))"
      ],
      "metadata": {
        "colab": {
          "base_uri": "https://localhost:8080/"
        },
        "id": "qBlIaDlxIEb1",
        "outputId": "72018a3a-e23d-4c19-86a2-317cce7a6d7e"
      },
      "execution_count": 34,
      "outputs": [
        {
          "output_type": "stream",
          "name": "stdout",
          "text": [
            "48/48 [==============================] - 4s 89ms/step - loss: 0.8210 - acc: 0.8037\n",
            "Test Accuracy:  0.803676962852478\n",
            "              precision    recall  f1-score   support\n",
            "\n",
            "           0       0.78      0.92      0.84       886\n",
            "           1       0.85      0.64      0.73       637\n",
            "\n",
            "    accuracy                           0.80      1523\n",
            "   macro avg       0.82      0.78      0.79      1523\n",
            "weighted avg       0.81      0.80      0.80      1523\n",
            "\n"
          ]
        }
      ]
    },
    {
      "cell_type": "code",
      "source": [
        "# holdout = df_test['clean_text']\n",
        "# holdout = pad_sequences(tokenizer.texts_to_sequences(holdout), maxlen=sequence_len)\n",
        "\n",
        "# holdout_preds = model.predict(holdout, verbose=0)\n",
        "# preds1 = [1 if each > 0.5 else 0 for each in holdout_preds]\n",
        "\n",
        "# id = df_test['id']\n",
        "# submission1 = pd.DataFrame({\"id\": id, \"target\": preds1})\n",
        "# submission1.to_csv(\"./drive/MyDrive/Colab Notebooks/MSDS422/disastertweets_submission_1.csv\", index = False)"
      ],
      "metadata": {
        "id": "-bNoR79CVoKF"
      },
      "execution_count": 35,
      "outputs": []
    },
    {
      "cell_type": "markdown",
      "source": [
        ""
      ],
      "metadata": {
        "id": "g03XxUtqkWoT"
      }
    },
    {
      "cell_type": "markdown",
      "source": [
        "##### Model 2 - word2vec Bidirectional GRU"
      ],
      "metadata": {
        "id": "IDLRftsYLVQm"
      }
    },
    {
      "cell_type": "code",
      "source": [
        "x_train2, x_test2, y_train2, y_test2 = train_test_split(df_train['clean_text'],\n",
        "                                                                   df_train['target'],\n",
        "                                                                   test_size=0.2,\n",
        "                                                                   random_state=0, \n",
        "                                                                   shuffle=True)"
      ],
      "metadata": {
        "id": "182C2RgkMIX5"
      },
      "execution_count": 36,
      "outputs": []
    },
    {
      "cell_type": "code",
      "source": [
        "x_train2 = pad_sequences(tokenizer.texts_to_sequences(x_train2), maxlen=sequence_len)\n",
        "x_test2 = pad_sequences(tokenizer.texts_to_sequences(x_test2), maxlen=sequence_len)"
      ],
      "metadata": {
        "id": "DB6j0cK2cdtA"
      },
      "execution_count": 50,
      "outputs": []
    },
    {
      "cell_type": "code",
      "source": [
        "def load_word2vec():\n",
        "    \"\"\" Load Word2Vec Vectors\n",
        "        Return:\n",
        "            wv_from_bin: All 3 million embeddings, each lengh 300\n",
        "    \"\"\"\n",
        "    import gensim.downloader as api\n",
        "    wv_from_bin = api.load(\"word2vec-google-news-300\") # load 300-dimension word vectors\n",
        "    vocab = list(wv_from_bin.vocab.keys())\n",
        "    print(\"Loaded vocab size %i\" % len(vocab))\n",
        "    return wv_from_bin"
      ],
      "metadata": {
        "id": "M05uJQn1cZEG"
      },
      "execution_count": 41,
      "outputs": []
    },
    {
      "cell_type": "code",
      "source": [
        "def get_embedding(word_index):\n",
        "    \n",
        "  # create a matrix for the vocabulary of our training set, the row represents each vocabulary,\n",
        "  # the column represents each dimention we created for this vocabulary\n",
        "  embedding = np.zeros((len(word_index)+1, 300))\n",
        "  for word in word_index.keys():\n",
        "      if word in wv_from_bin.vocab.keys():\n",
        "          embedding[word_index[word], :] = np.array(wv_from_bin.word_vec(word))\n",
        "      else:\n",
        "          embedding[word_index[word], :] = np.random.randn(300)\n",
        "  return embedding"
      ],
      "metadata": {
        "id": "Ypm-06WJcY5s"
      },
      "execution_count": 42,
      "outputs": []
    },
    {
      "cell_type": "code",
      "source": [
        "def get_maxlength(data):\n",
        "  # vectorize the text\n",
        "  tokenizer_obj = Tokenizer()\n",
        "  tokenizer_obj.fit_on_texts(data)\n",
        "  sequences = tokenizer_obj.texts_to_sequences(data)\n",
        "\n",
        "  # find the max lengh of each sequence\n",
        "  find_max=[]\n",
        "  for i in range(len(sequences)):\n",
        "      find_max.append(len(sequences[i]))\n",
        "  max_length = max(find_max)\n",
        "  return max_length"
      ],
      "metadata": {
        "id": "XNfBO2433o3C"
      },
      "execution_count": 43,
      "outputs": []
    },
    {
      "cell_type": "code",
      "source": [
        "max_len = get_maxlength(df_train['clean_text'])"
      ],
      "metadata": {
        "id": "i30WKpP439Ux"
      },
      "execution_count": 44,
      "outputs": []
    },
    {
      "cell_type": "code",
      "source": [
        "wv_from_bin = load_word2vec()"
      ],
      "metadata": {
        "colab": {
          "base_uri": "https://localhost:8080/"
        },
        "id": "VZBFkgt8cZBL",
        "outputId": "2441700e-2556-4893-d984-e66b3eaf7d5f"
      },
      "execution_count": 45,
      "outputs": [
        {
          "output_type": "stream",
          "name": "stdout",
          "text": [
            "[==================================================] 100.0% 1662.8/1662.8MB downloaded\n",
            "Loaded vocab size 3000000\n"
          ]
        }
      ]
    },
    {
      "cell_type": "code",
      "source": [
        "wv_embedding = get_embedding(word_index)"
      ],
      "metadata": {
        "id": "YF6eYBBPcY1Y"
      },
      "execution_count": 46,
      "outputs": []
    },
    {
      "cell_type": "code",
      "source": [
        "embedding_dim = 300\n",
        "Embedding_layer = Embedding((len(word_index)+1), embedding_dim,\n",
        "                    embeddings_initializer=Constant(wv_embedding),\n",
        "                    input_length=sequence_len,\n",
        "                    trainable = False)"
      ],
      "metadata": {
        "id": "2otAIUA_z29A"
      },
      "execution_count": 48,
      "outputs": []
    },
    {
      "cell_type": "code",
      "source": [
        "model2=Sequential()\n",
        "model2.add(Embedding_layer)\n",
        "model2.add(Bidirectional(GRU(32,dropout=0.2,recurrent_dropout=0.1,return_sequences=True)))\n",
        "model2.add(Bidirectional(GRU(32,dropout=0.2,recurrent_dropout=0.1)))\n",
        "model2.add(Dense(1,activation='sigmoid'))\n",
        "model2.compile(loss='binary_crossentropy',optimizer='adam',metrics=['acc'])\n",
        "\n",
        "model2.summary()"
      ],
      "metadata": {
        "colab": {
          "base_uri": "https://localhost:8080/"
        },
        "id": "FZw3zHNUz247",
        "outputId": "a47f7e28-a8ac-4a5a-f0db-d0f2de7c5c9e"
      },
      "execution_count": 49,
      "outputs": [
        {
          "output_type": "stream",
          "name": "stdout",
          "text": [
            "Model: \"sequential_1\"\n",
            "_________________________________________________________________\n",
            " Layer (type)                Output Shape              Param #   \n",
            "=================================================================\n",
            " embedding_1 (Embedding)     (None, 100, 300)          4412400   \n",
            "                                                                 \n",
            " bidirectional_1 (Bidirectio  (None, 100, 64)          64128     \n",
            " nal)                                                            \n",
            "                                                                 \n",
            " bidirectional_2 (Bidirectio  (None, 64)               18816     \n",
            " nal)                                                            \n",
            "                                                                 \n",
            " dense_3 (Dense)             (None, 1)                 65        \n",
            "                                                                 \n",
            "=================================================================\n",
            "Total params: 4,495,409\n",
            "Trainable params: 83,009\n",
            "Non-trainable params: 4,412,400\n",
            "_________________________________________________________________\n"
          ]
        }
      ]
    },
    {
      "cell_type": "code",
      "source": [
        "history2 = model2.fit(x_train2, y_train2, \n",
        "          batch_size=128,\n",
        "          epochs=epochs,\n",
        "          verbose=2, \n",
        "          validation_data=(x_test2, y_test2))\n"
      ],
      "metadata": {
        "colab": {
          "base_uri": "https://localhost:8080/"
        },
        "id": "Ix1aQ_1DcHcF",
        "outputId": "2eab08a4-8ec1-40d6-bdfb-78b33d2c31f7"
      },
      "execution_count": 52,
      "outputs": [
        {
          "output_type": "stream",
          "name": "stdout",
          "text": [
            "Epoch 1/20\n",
            "48/48 - 73s - loss: 0.4275 - acc: 0.8118 - val_loss: 0.4657 - val_acc: 0.7853 - 73s/epoch - 2s/step\n",
            "Epoch 2/20\n",
            "48/48 - 75s - loss: 0.4065 - acc: 0.8233 - val_loss: 0.4670 - val_acc: 0.7905 - 75s/epoch - 2s/step\n",
            "Epoch 3/20\n",
            "48/48 - 55s - loss: 0.3766 - acc: 0.8427 - val_loss: 0.4646 - val_acc: 0.7873 - 55s/epoch - 1s/step\n",
            "Epoch 4/20\n",
            "48/48 - 44s - loss: 0.3537 - acc: 0.8560 - val_loss: 0.4698 - val_acc: 0.7892 - 44s/epoch - 919ms/step\n",
            "Epoch 5/20\n",
            "48/48 - 44s - loss: 0.3390 - acc: 0.8606 - val_loss: 0.4817 - val_acc: 0.7807 - 44s/epoch - 915ms/step\n",
            "Epoch 6/20\n",
            "48/48 - 43s - loss: 0.3141 - acc: 0.8741 - val_loss: 0.4936 - val_acc: 0.7905 - 43s/epoch - 892ms/step\n",
            "Epoch 7/20\n",
            "48/48 - 44s - loss: 0.2976 - acc: 0.8823 - val_loss: 0.5088 - val_acc: 0.7866 - 44s/epoch - 917ms/step\n",
            "Epoch 8/20\n",
            "48/48 - 43s - loss: 0.2854 - acc: 0.8911 - val_loss: 0.5080 - val_acc: 0.7919 - 43s/epoch - 894ms/step\n",
            "Epoch 9/20\n",
            "48/48 - 43s - loss: 0.2698 - acc: 0.8969 - val_loss: 0.5290 - val_acc: 0.7879 - 43s/epoch - 893ms/step\n",
            "Epoch 10/20\n",
            "48/48 - 43s - loss: 0.2543 - acc: 0.9023 - val_loss: 0.5151 - val_acc: 0.7892 - 43s/epoch - 891ms/step\n",
            "Epoch 11/20\n",
            "48/48 - 43s - loss: 0.2420 - acc: 0.9102 - val_loss: 0.5468 - val_acc: 0.7814 - 43s/epoch - 897ms/step\n",
            "Epoch 12/20\n",
            "48/48 - 43s - loss: 0.2425 - acc: 0.9084 - val_loss: 0.5405 - val_acc: 0.7820 - 43s/epoch - 888ms/step\n",
            "Epoch 13/20\n",
            "48/48 - 43s - loss: 0.2198 - acc: 0.9166 - val_loss: 0.5607 - val_acc: 0.7800 - 43s/epoch - 888ms/step\n",
            "Epoch 14/20\n",
            "48/48 - 43s - loss: 0.2148 - acc: 0.9172 - val_loss: 0.5425 - val_acc: 0.7787 - 43s/epoch - 900ms/step\n",
            "Epoch 15/20\n",
            "48/48 - 43s - loss: 0.2113 - acc: 0.9195 - val_loss: 0.5528 - val_acc: 0.7840 - 43s/epoch - 893ms/step\n",
            "Epoch 16/20\n",
            "48/48 - 43s - loss: 0.2036 - acc: 0.9225 - val_loss: 0.5675 - val_acc: 0.7873 - 43s/epoch - 896ms/step\n",
            "Epoch 17/20\n",
            "48/48 - 43s - loss: 0.1891 - acc: 0.9281 - val_loss: 0.5665 - val_acc: 0.7873 - 43s/epoch - 898ms/step\n",
            "Epoch 18/20\n",
            "48/48 - 43s - loss: 0.1884 - acc: 0.9297 - val_loss: 0.5573 - val_acc: 0.7879 - 43s/epoch - 896ms/step\n",
            "Epoch 19/20\n",
            "48/48 - 43s - loss: 0.1753 - acc: 0.9350 - val_loss: 0.5940 - val_acc: 0.7932 - 43s/epoch - 899ms/step\n",
            "Epoch 20/20\n",
            "48/48 - 43s - loss: 0.1714 - acc: 0.9351 - val_loss: 0.5930 - val_acc: 0.7866 - 43s/epoch - 903ms/step\n"
          ]
        }
      ]
    },
    {
      "cell_type": "code",
      "source": [
        "plt.plot(history2.history['loss'])\n",
        "plt.plot(history2.history['val_loss'])\n",
        "plt.title('model loss')\n",
        "plt.ylabel('loss')\n",
        "plt.xlabel('epoch')\n",
        "plt.legend(['train', 'test'], loc='best')\n",
        "plt.show();"
      ],
      "metadata": {
        "colab": {
          "base_uri": "https://localhost:8080/",
          "height": 295
        },
        "id": "3-NU-4OTcHXR",
        "outputId": "2d36c41b-c725-40b6-80f6-391fca89d106"
      },
      "execution_count": 53,
      "outputs": [
        {
          "output_type": "display_data",
          "data": {
            "image/png": "[encoded data removed]",
            "text/plain": [
              "<Figure size 432x288 with 1 Axes>"
            ]
          },
          "metadata": {
            "needs_background": "light"
          }
        }
      ]
    },
    {
      "cell_type": "code",
      "source": [
        "plt.plot(history2.history['acc'])\n",
        "plt.plot(history2.history['val_acc'])\n",
        "plt.title('model accuracy')\n",
        "plt.ylabel('accuracy')\n",
        "plt.xlabel('epoch')\n",
        "plt.legend(['train', 'test'], loc='best')\n",
        "plt.show();"
      ],
      "metadata": {
        "colab": {
          "base_uri": "https://localhost:8080/",
          "height": 295
        },
        "id": "HyHsMISpcHTK",
        "outputId": "9f8d5dc9-fcb5-410a-e843-185662c82ced"
      },
      "execution_count": 54,
      "outputs": [
        {
          "output_type": "display_data",
          "data": {
            "image/png": "[encoded data removed]",
            "text/plain": [
              "<Figure size 432x288 with 1 Axes>"
            ]
          },
          "metadata": {
            "needs_background": "light"
          }
        }
      ]
    },
    {
      "cell_type": "code",
      "source": [
        "pred2 = model2.predict(x_test2, verbose=0)\n",
        "y_pred2 = [1 if each > 0.5 else 0 for each in pred2]\n",
        "\n",
        "score2, test_accuracy2 = model2.evaluate(x_test2, y_test2)\n",
        "\n",
        "print(\"Test Accuracy: \", test_accuracy2)\n",
        "print(classification_report(list(y_test2), y_pred2))"
      ],
      "metadata": {
        "colab": {
          "base_uri": "https://localhost:8080/"
        },
        "id": "aDZdP_decHPZ",
        "outputId": "19edab52-0b7a-4b85-d5aa-4edb2ec84d04"
      },
      "execution_count": 55,
      "outputs": [
        {
          "output_type": "stream",
          "name": "stdout",
          "text": [
            "48/48 [==============================] - 3s 55ms/step - loss: 0.5930 - acc: 0.7866\n",
            "Test Accuracy:  0.7866053581237793\n",
            "              precision    recall  f1-score   support\n",
            "\n",
            "           0       0.79      0.86      0.82       886\n",
            "           1       0.78      0.69      0.73       637\n",
            "\n",
            "    accuracy                           0.79      1523\n",
            "   macro avg       0.78      0.77      0.78      1523\n",
            "weighted avg       0.79      0.79      0.78      1523\n",
            "\n"
          ]
        }
      ]
    },
    {
      "cell_type": "code",
      "source": [
        "# holdout = df_test['clean_text']\n",
        "# holdout = pad_sequences(tokenizer.texts_to_sequences(holdout), maxlen=sequence_len)\n",
        "\n",
        "# holdout_preds2 = model2.predict(holdout, verbose=0)\n",
        "# preds2 = [1 if each > 0.5 else 0 for each in holdout_preds2]\n",
        "\n",
        "# id = df_test['id']\n",
        "# submission2 = pd.DataFrame({\"id\": id, \"target\": preds2})\n",
        "# submission2.to_csv(\"./drive/MyDrive/Colab Notebooks/MSDS422/disastertweets_submission_2.csv\", index = False)"
      ],
      "metadata": {
        "id": "wVaSU7rVcHJ4"
      },
      "execution_count": 57,
      "outputs": []
    },
    {
      "cell_type": "markdown",
      "source": [
        "##### Model 3 - word2vec Bidirectional LSTM"
      ],
      "metadata": {
        "id": "SMIaZeVJeW-t"
      }
    },
    {
      "cell_type": "code",
      "source": [
        "model3=Sequential()\n",
        "model3.add(Embedding_layer)\n",
        "model3.add(Dropout(0.2))\n",
        "model3.add(Bidirectional(LSTM(256)))\n",
        "model3.add(Dropout(0.2))\n",
        "model3.add(Dense(512, activation='relu'))\n",
        "model3.add(Dropout(0.5))\n",
        "model3.add(BatchNormalization())\n",
        "model3.add(Dense(1,activation='sigmoid'))\n",
        "model3.compile(loss='binary_crossentropy',optimizer='adam',metrics=['accuracy'])"
      ],
      "metadata": {
        "id": "UGnKXeaQz2st"
      },
      "execution_count": 60,
      "outputs": []
    },
    {
      "cell_type": "code",
      "source": [
        "model3.summary()"
      ],
      "metadata": {
        "colab": {
          "base_uri": "https://localhost:8080/"
        },
        "id": "EFpTnJiLz2mM",
        "outputId": "30c8ed32-6dcb-42e3-8506-2db8a0991167"
      },
      "execution_count": 61,
      "outputs": [
        {
          "output_type": "stream",
          "name": "stdout",
          "text": [
            "Model: \"sequential_3\"\n",
            "_________________________________________________________________\n",
            " Layer (type)                Output Shape              Param #   \n",
            "=================================================================\n",
            " embedding_1 (Embedding)     (None, 100, 300)          4412400   \n",
            "                                                                 \n",
            " dropout_4 (Dropout)         (None, 100, 300)          0         \n",
            "                                                                 \n",
            " bidirectional_4 (Bidirectio  (None, 512)              1140736   \n",
            " nal)                                                            \n",
            "                                                                 \n",
            " dropout_5 (Dropout)         (None, 512)               0         \n",
            "                                                                 \n",
            " dense_5 (Dense)             (None, 512)               262656    \n",
            "                                                                 \n",
            " dropout_6 (Dropout)         (None, 512)               0         \n",
            "                                                                 \n",
            " batch_normalization (BatchN  (None, 512)              2048      \n",
            " ormalization)                                                   \n",
            "                                                                 \n",
            " dense_6 (Dense)             (None, 1)                 513       \n",
            "                                                                 \n",
            "=================================================================\n",
            "Total params: 5,818,353\n",
            "Trainable params: 1,404,929\n",
            "Non-trainable params: 4,413,424\n",
            "_________________________________________________________________\n"
          ]
        }
      ]
    },
    {
      "cell_type": "code",
      "source": [
        "history3 = model3.fit(x_train2, y_train2, \n",
        "          batch_size=128,\n",
        "          epochs=epochs,\n",
        "          verbose=2, \n",
        "          validation_data=(x_test2, y_test2))"
      ],
      "metadata": {
        "colab": {
          "base_uri": "https://localhost:8080/"
        },
        "id": "yLU1aweBz2h9",
        "outputId": "bc2e5033-49a7-4d45-e624-313eb6ff6b0a"
      },
      "execution_count": 62,
      "outputs": [
        {
          "output_type": "stream",
          "name": "stdout",
          "text": [
            "Epoch 1/20\n",
            "48/48 - 152s - loss: 0.6564 - accuracy: 0.6895 - val_loss: 0.6043 - val_accuracy: 0.7019 - 152s/epoch - 3s/step\n",
            "Epoch 2/20\n",
            "48/48 - 103s - loss: 0.4851 - accuracy: 0.7824 - val_loss: 0.5945 - val_accuracy: 0.7617 - 103s/epoch - 2s/step\n",
            "Epoch 3/20\n",
            "48/48 - 95s - loss: 0.4343 - accuracy: 0.8039 - val_loss: 0.5727 - val_accuracy: 0.7669 - 95s/epoch - 2s/step\n",
            "Epoch 4/20\n",
            "48/48 - 96s - loss: 0.3993 - accuracy: 0.8271 - val_loss: 0.5277 - val_accuracy: 0.7905 - 96s/epoch - 2s/step\n",
            "Epoch 5/20\n",
            "48/48 - 99s - loss: 0.3580 - accuracy: 0.8448 - val_loss: 0.5290 - val_accuracy: 0.7820 - 99s/epoch - 2s/step\n",
            "Epoch 6/20\n",
            "48/48 - 95s - loss: 0.3157 - accuracy: 0.8657 - val_loss: 0.5014 - val_accuracy: 0.7794 - 95s/epoch - 2s/step\n",
            "Epoch 7/20\n",
            "48/48 - 95s - loss: 0.3053 - accuracy: 0.8709 - val_loss: 0.5096 - val_accuracy: 0.7544 - 95s/epoch - 2s/step\n",
            "Epoch 8/20\n",
            "48/48 - 95s - loss: 0.2777 - accuracy: 0.8847 - val_loss: 0.4926 - val_accuracy: 0.7708 - 95s/epoch - 2s/step\n",
            "Epoch 9/20\n",
            "48/48 - 95s - loss: 0.2588 - accuracy: 0.8939 - val_loss: 0.4922 - val_accuracy: 0.7827 - 95s/epoch - 2s/step\n",
            "Epoch 10/20\n",
            "48/48 - 94s - loss: 0.2349 - accuracy: 0.9048 - val_loss: 0.5313 - val_accuracy: 0.7873 - 94s/epoch - 2s/step\n",
            "Epoch 11/20\n",
            "48/48 - 94s - loss: 0.2246 - accuracy: 0.9082 - val_loss: 0.5218 - val_accuracy: 0.7781 - 94s/epoch - 2s/step\n",
            "Epoch 12/20\n",
            "48/48 - 94s - loss: 0.2067 - accuracy: 0.9133 - val_loss: 0.5717 - val_accuracy: 0.7768 - 94s/epoch - 2s/step\n",
            "Epoch 13/20\n",
            "48/48 - 94s - loss: 0.1867 - accuracy: 0.9250 - val_loss: 0.5392 - val_accuracy: 0.7814 - 94s/epoch - 2s/step\n",
            "Epoch 14/20\n",
            "48/48 - 95s - loss: 0.1814 - accuracy: 0.9235 - val_loss: 0.5679 - val_accuracy: 0.7728 - 95s/epoch - 2s/step\n",
            "Epoch 15/20\n",
            "48/48 - 95s - loss: 0.1881 - accuracy: 0.9205 - val_loss: 0.6052 - val_accuracy: 0.7866 - 95s/epoch - 2s/step\n",
            "Epoch 16/20\n",
            "48/48 - 95s - loss: 0.1645 - accuracy: 0.9365 - val_loss: 0.6249 - val_accuracy: 0.7768 - 95s/epoch - 2s/step\n",
            "Epoch 17/20\n",
            "48/48 - 94s - loss: 0.1613 - accuracy: 0.9346 - val_loss: 0.6054 - val_accuracy: 0.7781 - 94s/epoch - 2s/step\n",
            "Epoch 18/20\n",
            "48/48 - 95s - loss: 0.1498 - accuracy: 0.9396 - val_loss: 0.6717 - val_accuracy: 0.7590 - 95s/epoch - 2s/step\n",
            "Epoch 19/20\n",
            "48/48 - 94s - loss: 0.1419 - accuracy: 0.9443 - val_loss: 0.6974 - val_accuracy: 0.7735 - 94s/epoch - 2s/step\n",
            "Epoch 20/20\n",
            "48/48 - 94s - loss: 0.1405 - accuracy: 0.9412 - val_loss: 0.7109 - val_accuracy: 0.7741 - 94s/epoch - 2s/step\n"
          ]
        }
      ]
    },
    {
      "cell_type": "code",
      "source": [
        "plt.plot(history3.history['loss'])\n",
        "plt.plot(history3.history['val_loss'])\n",
        "plt.title('model loss')\n",
        "plt.ylabel('loss')\n",
        "plt.xlabel('epoch')\n",
        "plt.legend(['train', 'test'], loc='best')\n",
        "plt.show();"
      ],
      "metadata": {
        "colab": {
          "base_uri": "https://localhost:8080/",
          "height": 295
        },
        "id": "UlyXMVFOz2e3",
        "outputId": "38b9d9e7-d1fb-4ab7-ea06-b0f3aad5ef82"
      },
      "execution_count": 63,
      "outputs": [
        {
          "output_type": "display_data",
          "data": {
            "image/png": "[encoded data removed]",
            "text/plain": [
              "<Figure size 432x288 with 1 Axes>"
            ]
          },
          "metadata": {
            "needs_background": "light"
          }
        }
      ]
    },
    {
      "cell_type": "code",
      "source": [
        "plt.plot(history3.history['accuracy'])\n",
        "plt.plot(history3.history['val_accuracy'])\n",
        "plt.title('model accuracy')\n",
        "plt.ylabel('accuracy')\n",
        "plt.xlabel('epoch')\n",
        "plt.legend(['train', 'test'], loc='best')\n",
        "plt.show();"
      ],
      "metadata": {
        "colab": {
          "base_uri": "https://localhost:8080/",
          "height": 295
        },
        "id": "QhRAewFIz2bG",
        "outputId": "cc52fc2a-0f17-41ab-fe66-d23dfb3ef60e"
      },
      "execution_count": 65,
      "outputs": [
        {
          "output_type": "display_data",
          "data": {
            "image/png": "[encoded data removed]",
            "text/plain": [
              "<Figure size 432x288 with 1 Axes>"
            ]
          },
          "metadata": {
            "needs_background": "light"
          }
        }
      ]
    },
    {
      "cell_type": "code",
      "source": [
        "pred3 = model3.predict(x_test2, verbose=0)\n",
        "y_pred3 = [1 if each > 0.5 else 0 for each in pred3]\n",
        "\n",
        "score3, test_accuracy3 = model3.evaluate(x_test2, y_test2)\n",
        "\n",
        "print(\"Test Accuracy: \", test_accuracy3)\n",
        "print(classification_report(list(y_test2), y_pred2))"
      ],
      "metadata": {
        "colab": {
          "base_uri": "https://localhost:8080/"
        },
        "id": "Y6m7aT5Az2Wx",
        "outputId": "11712fe1-c45b-4531-b3f5-d26c0cce0437"
      },
      "execution_count": 67,
      "outputs": [
        {
          "output_type": "stream",
          "name": "stdout",
          "text": [
            "48/48 [==============================] - 11s 235ms/step - loss: 0.7109 - accuracy: 0.7741\n",
            "Test Accuracy:  0.7741299867630005\n",
            "              precision    recall  f1-score   support\n",
            "\n",
            "           0       0.79      0.86      0.82       886\n",
            "           1       0.78      0.69      0.73       637\n",
            "\n",
            "    accuracy                           0.79      1523\n",
            "   macro avg       0.78      0.77      0.78      1523\n",
            "weighted avg       0.79      0.79      0.78      1523\n",
            "\n"
          ]
        }
      ]
    },
    {
      "cell_type": "code",
      "source": [
        "# holdout = df_test['clean_text']\n",
        "# holdout = pad_sequences(tokenizer.texts_to_sequences(holdout), maxlen=sequence_len)\n",
        "\n",
        "# holdout_preds3 = model3.predict(holdout, verbose=0)\n",
        "# preds3 = [1 if each > 0.5 else 0 for each in holdout_preds3]\n",
        "\n",
        "# id = df_test['id']\n",
        "# submission3 = pd.DataFrame({\"id\": id, \"target\": preds3})\n",
        "# submission3.to_csv(\"./drive/MyDrive/Colab Notebooks/MSDS422/disastertweets_submission_3.csv\", index = False)"
      ],
      "metadata": {
        "id": "_oFd341Cz2Sk"
      },
      "execution_count": 68,
      "outputs": []
    },
    {
      "cell_type": "markdown",
      "source": [
        "It doesn't seem like any of the three models are breaking 80% on the validation accuracy as well as the Kaggle score. My thinking is that it may need additional data preprocessing that would allow the embeddings and models to be more effective at differentiating disaster tweets. Another thing that could potentially be used is the keyword field in the dataset which is not currently in use. From what I saw, it didn't seem like the location provided any useful information given certain records did not even include a \"real\" location. In future iterations of this project, additional preprocessing and the keyword dimension should be revisited. "
      ],
      "metadata": {
        "id": "gq8xSC0XrJA3"
      }
    }
  ]
}